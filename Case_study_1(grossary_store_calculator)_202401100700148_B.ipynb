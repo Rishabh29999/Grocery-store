{
  "nbformat": 4,
  "nbformat_minor": 0,
  "metadata": {
    "colab": {
      "provenance": [],
      "authorship_tag": "ABX9TyNOOtgyJUjHNDooTqlI0Mm+",
      "include_colab_link": true
    },
    "kernelspec": {
      "name": "python3",
      "display_name": "Python 3"
    },
    "language_info": {
      "name": "python"
    }
  },
  "cells": [
    {
      "cell_type": "markdown",
      "metadata": {
        "id": "view-in-github",
        "colab_type": "text"
      },
      "source": [
        "<a href=\"https://colab.research.google.com/github/Rishabh29999/Grocery-store/blob/main/Case_study_1(grossary_store_calculator)_202401100700148_B.ipynb\" target=\"_parent\"><img src=\"https://colab.research.google.com/assets/colab-badge.svg\" alt=\"Open In Colab\"/></a>"
      ]
    },
    {
      "cell_type": "markdown",
      "source": [
        "Grossary Store Calculator"
      ],
      "metadata": {
        "id": "dmhn1W5iSebA"
      }
    },
    {
      "cell_type": "code",
      "source": [
        "print(\"welcome\")\n",
        "print(\"What do you want\")\n",
        "print(\"0.END\")\n",
        "print(\"1.MILK\")\n",
        "print(\"2.BREAD\")\n",
        "print(\"3.SHAMPOO\")\n",
        "print(\"4.SOAP\")\n",
        "print(\"5.RICE\")\n",
        "print(\"6.WHEAT\")\n",
        "print(\"7.JUICE\")\n",
        "total_bill = 0\n",
        "for i in range(50):\n",
        "  a=int(input())\n",
        "  if(a==0):\n",
        "    print(\"Thank You\")\n",
        "    break;\n",
        "  if(a==1):\n",
        "      print(\"how much litre you want?\")\n",
        "      b=int(input())\n",
        "      total_bill = total_bill + b*50\n",
        "      continue;\n",
        "  elif (a==2):\n",
        "      print(\"how much packet are you want?\")\n",
        "      b=int(input())\n",
        "      total_bill = total_bill + b*30\n",
        "      continue;\n",
        "  elif (a==3):\n",
        "      print(\"how much shampoo are you want?\")\n",
        "      b=int(input())\n",
        "      total_bill = total_bill + b*2\n",
        "      continue;\n",
        "  elif (a==4):\n",
        "      print(\"how much soap are you want?\")\n",
        "      b=int(input())\n",
        "      total_bill = total_bill + b*10\n",
        "      continue;\n",
        "  elif (a==5):\n",
        "      print(\"how much rice are you want?\")\n",
        "      b=int(input())\n",
        "      total_bill = total_bill + b*55\n",
        "      continue;\n",
        "  elif (a==6):\n",
        "      print(\"how much wheat are you want?\")\n",
        "      b=int(input())\n",
        "      total_bill = total_bill + b*45\n",
        "      continue;\n",
        "  elif (a==7):\n",
        "      print(\"how much packet are you want?\")\n",
        "      b=int(input())\n",
        "      total_bill = total_bill + b*15\n",
        "      continue;\n",
        "  else:\n",
        "        print(\"Invalid input\")\n",
        "        continue;\n",
        "\n",
        "print(\"total_bill\",total_bill)\n",
        "\n",
        "\n",
        "\n",
        "\n",
        "\n"
      ],
      "metadata": {
        "colab": {
          "base_uri": "https://localhost:8080/",
          "height": 0
        },
        "id": "zkEtP_KbSsen",
        "outputId": "983045a7-7d44-4c6d-f9b9-ff7efde5f515"
      },
      "execution_count": 11,
      "outputs": [
        {
          "output_type": "stream",
          "name": "stdout",
          "text": [
            "welcome\n",
            "What do you want\n",
            "0.END\n",
            "1.MILK\n",
            "2.BREAD\n",
            "3.SHAMPOO\n",
            "4.SOAP\n",
            "5.RICE\n",
            "6.WHEAT\n",
            "7.JUICE\n",
            "5\n",
            "how much rice are you want?\n",
            "6\n",
            "0\n",
            "Thank You\n",
            "total_bill 330\n"
          ]
        }
      ]
    }
  ]
}